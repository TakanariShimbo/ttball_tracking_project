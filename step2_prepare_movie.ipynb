{
 "cells": [
  {
   "cell_type": "code",
   "execution_count": null,
   "metadata": {},
   "outputs": [],
   "source": [
    "# # GoogleDirve の指定したディレクトで作業する場合\n",
    "# %cd /content/drive/My Drive/project_directory"
   ]
  },
  {
   "cell_type": "code",
   "execution_count": null,
   "metadata": {},
   "outputs": [],
   "source": [
    "# setting\n",
    "youtube_url = \"https://youtu.be/QcpQ7rqT5fA\"\n",
    "filename = \"test_1\""
   ]
  },
  {
   "cell_type": "markdown",
   "metadata": {},
   "source": [
    "# step2 : prepare movie"
   ]
  },
  {
   "cell_type": "code",
   "execution_count": null,
   "metadata": {},
   "outputs": [],
   "source": [
    "# make dirs\n",
    "os.makedirs(\"datas/original_movies\", exist_ok=True)"
   ]
  },
  {
   "cell_type": "code",
   "execution_count": null,
   "metadata": {},
   "outputs": [],
   "source": [
    "# insltall youtube dl\n",
    "!pip install youtube-dl"
   ]
  },
  {
   "cell_type": "code",
   "execution_count": null,
   "metadata": {
    "colab": {
     "base_uri": "https://localhost:8080/"
    },
    "executionInfo": {
     "elapsed": 878,
     "status": "ok",
     "timestamp": 1661330060296,
     "user": {
      "displayName": "1220 hmkc",
      "userId": "14727686216303891825"
     },
     "user_tz": -540
    },
    "id": "oDtdxaKygfFC",
    "outputId": "dbf7f56e-26c3-4c66-aa5c-aa6efcd208d1"
   },
   "outputs": [
    {
     "name": "stdout",
     "output_type": "stream",
     "text": [
      "[youtube] QcpQ7rqT5fA: Downloading webpage\n",
      "[info] Available formats for QcpQ7rqT5fA:\n",
      "format code  extension  resolution note\n",
      "249          webm       audio only tiny    3k , webm_dash container, opus @  3k (48000Hz), 62.18KiB\n",
      "250          webm       audio only tiny    3k , webm_dash container, opus @  3k (48000Hz), 62.18KiB\n",
      "251          webm       audio only tiny    3k , webm_dash container, opus @  3k (48000Hz), 62.18KiB\n",
      "140          m4a        audio only tiny  129k , m4a_dash container, mp4a.40.2@129k (44100Hz), 2.16MiB\n",
      "160          mp4        256x144    144p   47k , mp4_dash container, avc1.4d400c@  47k, 30fps, video only, 812.87KiB\n",
      "278          webm       256x144    144p   59k , webm_dash container, vp9@  59k, 30fps, video only, 1010.32KiB\n",
      "242          webm       426x240    240p   69k , webm_dash container, vp9@  69k, 30fps, video only, 1.16MiB\n",
      "133          mp4        426x240    240p   98k , mp4_dash container, avc1.4d4015@  98k, 30fps, video only, 1.65MiB\n",
      "243          webm       640x360    360p  110k , webm_dash container, vp9@ 110k, 30fps, video only, 1.84MiB\n",
      "134          mp4        640x360    360p  177k , mp4_dash container, avc1.4d401e@ 177k, 30fps, video only, 2.97MiB\n",
      "244          webm       854x480    480p  174k , webm_dash container, vp9@ 174k, 30fps, video only, 2.91MiB\n",
      "135          mp4        854x480    480p  284k , mp4_dash container, avc1.4d401f@ 284k, 30fps, video only, 4.75MiB\n",
      "247          webm       1280x720   720p  332k , webm_dash container, vp9@ 332k, 30fps, video only, 5.55MiB\n",
      "302          webm       1280x720   720p60  456k , webm_dash container, vp9@ 456k, 60fps, video only, 7.62MiB\n",
      "136          mp4        1280x720   720p  506k , mp4_dash container, avc1.64001f@ 506k, 30fps, video only, 8.45MiB\n",
      "298          mp4        1280x720   720p60  744k , mp4_dash container, avc1.640020@ 744k, 60fps, video only, 12.43MiB\n",
      "303          webm       1920x1080  1080p60  621k , webm_dash container, vp9@ 621k, 60fps, video only, 10.38MiB\n",
      "299          mp4        1920x1080  1080p60 2754k , mp4_dash container, avc1.64002a@2754k, 60fps, video only, 45.97MiB\n",
      "18           mp4        640x360    360p  273k , avc1.42001E, 30fps, mp4a.40.2 (44100Hz), 4.56MiB\n",
      "22           mp4        1280x720   720p  635k , avc1.64001F, 30fps, mp4a.40.2 (44100Hz) (best)\n"
     ]
    }
   ],
   "source": [
    "# check format code\n",
    "!youtube-dl -F {youtube_url}"
   ]
  },
  {
   "cell_type": "code",
   "execution_count": null,
   "metadata": {
    "colab": {
     "base_uri": "https://localhost:8080/"
    },
    "executionInfo": {
     "elapsed": 56693,
     "status": "ok",
     "timestamp": 1661330119035,
     "user": {
      "displayName": "1220 hmkc",
      "userId": "14727686216303891825"
     },
     "user_tz": -540
    },
    "id": "REzjPwvqhZWK",
    "outputId": "3a9bb807-83fc-447f-9df8-a3ba111cf374"
   },
   "outputs": [
    {
     "name": "stdout",
     "output_type": "stream",
     "text": [
      "[youtube] QcpQ7rqT5fA: Downloading webpage\n",
      "[download] Destination: datas/original_movies/test_1.mp4\n",
      "\u001b[K[download] 100% of 2.97MiB in 00:55\n"
     ]
    }
   ],
   "source": [
    "# download movie\n",
    "save_path = f\"datas/original_movies/{filename}.mp4\"\n",
    "!youtube-dl -o {save_path} -f 134 {youtube_url}"
   ]
  }
 ],
 "metadata": {
  "accelerator": "GPU",
  "colab": {
   "authorship_tag": "ABX9TyMjKaqGVtPyGpfAwOZ4U0nb",
   "collapsed_sections": [],
   "name": "main.ipynb",
   "provenance": []
  },
  "gpuClass": "standard",
  "kernelspec": {
   "display_name": "Python 3 (ipykernel)",
   "language": "python",
   "name": "python3"
  },
  "language_info": {
   "codemirror_mode": {
    "name": "ipython",
    "version": 3
   },
   "file_extension": ".py",
   "mimetype": "text/x-python",
   "name": "python",
   "nbconvert_exporter": "python",
   "pygments_lexer": "ipython3",
   "version": "3.9.12"
  }
 },
 "nbformat": 4,
 "nbformat_minor": 1
}
