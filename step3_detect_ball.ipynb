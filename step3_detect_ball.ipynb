{
 "cells": [
  {
   "cell_type": "code",
   "execution_count": null,
   "metadata": {},
   "outputs": [],
   "source": [
    "# # GoogleDirve の指定したディレクトで作業する場合\n",
    "# %cd /content/drive/My Drive/project_directory"
   ]
  },
  {
   "cell_type": "code",
   "execution_count": null,
   "metadata": {},
   "outputs": [],
   "source": [
    "# setting\n",
    "filename = \"test_1\"\n",
    "is_save = False"
   ]
  },
  {
   "cell_type": "markdown",
   "metadata": {
    "id": "iGOuSmM7-6wF"
   },
   "source": [
    "# step3 : detect ball"
   ]
  },
  {
   "cell_type": "code",
   "execution_count": null,
   "metadata": {},
   "outputs": [],
   "source": [
    "import time\n",
    "import os\n",
    "import shutil\n",
    "import subprocess"
   ]
  },
  {
   "cell_type": "code",
   "execution_count": null,
   "metadata": {},
   "outputs": [],
   "source": [
    "def bgst():\n",
    "    total_frame = 1001\n",
    "    down_fps_rate = 1\n",
    "    down_resolution_rate = 1.0\n",
    "    \n",
    "    # ---- bgst ----\n",
    "    time.sleep(1)\n",
    "    os.chdir(\"bgst\")\n",
    "\n",
    "    # flow1. convert movie to images\n",
    "    print(\"flow1. convert movie to images\")\n",
    "    # run\n",
    "    !python convert_movie2images.py --filename {filename} --total_frame {total_frame} --down_fps_rate {down_fps_rate} --down_resolution_rate {down_resolution_rate}\n",
    "\n",
    "    # flow2. make mask images\n",
    "    print(\"flow2. make mask images\")\n",
    "    # run\n",
    "    !python make_mask.py --filename {filename}\n",
    "\n",
    "    time.sleep(1)\n",
    "    os.chdir(\"../\")"
   ]
  },
  {
   "cell_type": "code",
   "execution_count": null,
   "metadata": {},
   "outputs": [],
   "source": [
    "def yolo():\n",
    "    weights = \"models_checkpoint/yolov7.pt\"\n",
    "    source = f\"../datas/original_images/{filename}\"\n",
    "    project = \"../datas/humans_bbox\"\n",
    "    \n",
    "    # --- yolo ----\n",
    "    time.sleep(1)\n",
    "    os.chdir(\"yolov7\")\n",
    "\n",
    "    # flow3. detect humans bbox\n",
    "    print('flow3. detect humans bbox')\n",
    "    # deleate old folder\n",
    "    save_path = f\"../datas/humans_bbox/{filename}\"\n",
    "    if os.path.exists(save_path):\n",
    "        print('yolo, delete previous folder.')\n",
    "        shutil.rmtree(save_path)\n",
    "    else:\n",
    "        print(\"yolo, previous folder doesn't exist.\")\n",
    "    # run\n",
    "    !python detect.py --save-txt --device 0 --classes 0 --weights {weights} --source {source} --project {project} --name {filename}\n",
    "\n",
    "    time.sleep(1)\n",
    "    os.chdir(\"../\")"
   ]
  },
  {
   "cell_type": "code",
   "execution_count": null,
   "metadata": {},
   "outputs": [],
   "source": [
    "def balldet():\n",
    "    original_fps = 30\n",
    "    slow_rate = 4\n",
    "    \n",
    "    # ---- balldet ----\n",
    "    time.sleep(1)\n",
    "    os.chdir(\"balldet\")\n",
    "\n",
    "    # flow4. make mask2 images\n",
    "    print(\"flow4. make mask2 images\")\n",
    "    # run\n",
    "    !python make_mask2.py --filename {filename}\n",
    "\n",
    "    # flow5. detect ball\n",
    "    print(\"flow5. detect ball\")\n",
    "    # run\n",
    "    !python detect_ball.py --filename {filename}\n",
    "\n",
    "    # flow6. convert balldet images to movie\n",
    "    print(\"flow6. convert balldet images to movie\")    \n",
    "    # run\n",
    "    !python convert_images2movie.py --filename {filename} --original_fps {original_fps} --slow_rate {slow_rate}\n",
    "\n",
    "    time.sleep(1)\n",
    "    os.chdir(\"../\")"
   ]
  },
  {
   "cell_type": "code",
   "execution_count": null,
   "metadata": {
    "colab": {
     "base_uri": "https://localhost:8080/"
    },
    "executionInfo": {
     "elapsed": 68294,
     "status": "ok",
     "timestamp": 1661334633913,
     "user": {
      "displayName": "1220 hmkc",
      "userId": "14727686216303891825"
     },
     "user_tz": -540
    },
    "id": "BFNhOEJ3PazQ",
    "outputId": "b39d8069-f6a2-44f8-947b-4cde28d18234"
   },
   "outputs": [],
   "source": [
    "bgst()"
   ]
  },
  {
   "cell_type": "code",
   "execution_count": null,
   "metadata": {},
   "outputs": [],
   "source": [
    "yolo()"
   ]
  },
  {
   "cell_type": "code",
   "execution_count": null,
   "metadata": {},
   "outputs": [],
   "source": [
    "balldet()"
   ]
  },
  {
   "cell_type": "code",
   "execution_count": null,
   "metadata": {},
   "outputs": [],
   "source": [
    "if is_save:\n",
    "    from google.colab import files\n",
    "    files.download(f\"datas/balldet_movies/{filename}.mp4\") "
   ]
  }
 ],
 "metadata": {
  "accelerator": "GPU",
  "colab": {
   "authorship_tag": "ABX9TyMjKaqGVtPyGpfAwOZ4U0nb",
   "collapsed_sections": [],
   "name": "main.ipynb",
   "provenance": []
  },
  "gpuClass": "standard",
  "kernelspec": {
   "display_name": "Python 3 (ipykernel)",
   "language": "python",
   "name": "python3"
  },
  "language_info": {
   "codemirror_mode": {
    "name": "ipython",
    "version": 3
   },
   "file_extension": ".py",
   "mimetype": "text/x-python",
   "name": "python",
   "nbconvert_exporter": "python",
   "pygments_lexer": "ipython3",
   "version": "3.9.12"
  }
 },
 "nbformat": 4,
 "nbformat_minor": 1
}
