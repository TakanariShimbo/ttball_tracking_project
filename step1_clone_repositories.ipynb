{
 "cells": [
  {
   "cell_type": "code",
   "execution_count": null,
   "metadata": {},
   "outputs": [],
   "source": [
    "# # GoogleDirve の指定したディレクトで作業する場合\n",
    "# %cd /content/drive/My Drive/project_directory"
   ]
  },
  {
   "cell_type": "markdown",
   "metadata": {
    "id": "ya93jv4Al1-K"
   },
   "source": [
    "# step1 : clone repositories"
   ]
  },
  {
   "cell_type": "code",
   "execution_count": null,
   "metadata": {
    "colab": {
     "base_uri": "https://localhost:8080/"
    },
    "executionInfo": {
     "elapsed": 1166,
     "status": "ok",
     "timestamp": 1661330046249,
     "user": {
      "displayName": "1220 hmkc",
      "userId": "14727686216303891825"
     },
     "user_tz": -540
    },
    "id": "qFgISuH0lyfG",
    "outputId": "5c9ee991-f06b-42d0-971f-3c8fcaa77331"
   },
   "outputs": [],
   "source": [
    "!git clone \"https://github.com/TakanariShimbo/bgst.git\""
   ]
  },
  {
   "cell_type": "code",
   "execution_count": null,
   "metadata": {
    "colab": {
     "base_uri": "https://localhost:8080/"
    },
    "executionInfo": {
     "elapsed": 6291,
     "status": "ok",
     "timestamp": 1661330052536,
     "user": {
      "displayName": "1220 hmkc",
      "userId": "14727686216303891825"
     },
     "user_tz": -540
    },
    "id": "E1gJy6zDl06k",
    "outputId": "77ca5de5-4a74-4062-f5ad-d44cf4803ad4"
   },
   "outputs": [],
   "source": [
    "!git clone \"https://github.com/TakanariShimbo/yolov7.git\""
   ]
  },
  {
   "cell_type": "code",
   "execution_count": null,
   "metadata": {
    "colab": {
     "base_uri": "https://localhost:8080/"
    },
    "executionInfo": {
     "elapsed": 539,
     "status": "ok",
     "timestamp": 1661330053073,
     "user": {
      "displayName": "1220 hmkc",
      "userId": "14727686216303891825"
     },
     "user_tz": -540
    },
    "id": "sgspdnTTl1Jb",
    "outputId": "c360340a-a846-45ec-a126-b162442887c0"
   },
   "outputs": [],
   "source": [
    "!git clone \"https://github.com/TakanariShimbo/balldet.git\""
   ]
  }
 ],
 "metadata": {
  "accelerator": "GPU",
  "colab": {
   "authorship_tag": "ABX9TyMjKaqGVtPyGpfAwOZ4U0nb",
   "collapsed_sections": [],
   "name": "main.ipynb",
   "provenance": []
  },
  "gpuClass": "standard",
  "kernelspec": {
   "display_name": "Python 3 (ipykernel)",
   "language": "python",
   "name": "python3"
  },
  "language_info": {
   "codemirror_mode": {
    "name": "ipython",
    "version": 3
   },
   "file_extension": ".py",
   "mimetype": "text/x-python",
   "name": "python",
   "nbconvert_exporter": "python",
   "pygments_lexer": "ipython3",
   "version": "3.9.12"
  }
 },
 "nbformat": 4,
 "nbformat_minor": 1
}
