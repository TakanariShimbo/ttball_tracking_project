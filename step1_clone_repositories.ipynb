{
 "cells": [
  {
   "cell_type": "code",
   "execution_count": 2,
   "metadata": {},
   "outputs": [
    {
     "ename": "NameError",
     "evalue": "name '__file__' is not defined",
     "output_type": "error",
     "traceback": [
      "\u001b[1;31m---------------------------------------------------------------------------\u001b[0m",
      "\u001b[1;31mNameError\u001b[0m                                 Traceback (most recent call last)",
      "Input \u001b[1;32mIn [2]\u001b[0m, in \u001b[0;36m<cell line: 2>\u001b[1;34m()\u001b[0m\n\u001b[0;32m      1\u001b[0m \u001b[38;5;28;01mimport\u001b[39;00m \u001b[38;5;21;01mos\u001b[39;00m\n\u001b[1;32m----> 2\u001b[0m \u001b[38;5;28mprint\u001b[39m(\u001b[38;5;124m'\u001b[39m\u001b[38;5;124mabspath:     \u001b[39m\u001b[38;5;124m'\u001b[39m, os\u001b[38;5;241m.\u001b[39mpath\u001b[38;5;241m.\u001b[39mabspath(\u001b[38;5;18;43m__file__\u001b[39;49m))\n\u001b[0;32m      3\u001b[0m \u001b[38;5;28mprint\u001b[39m(\u001b[38;5;124m'\u001b[39m\u001b[38;5;124mabs dirname: \u001b[39m\u001b[38;5;124m'\u001b[39m, os\u001b[38;5;241m.\u001b[39mpath\u001b[38;5;241m.\u001b[39mdirname(os\u001b[38;5;241m.\u001b[39mpath\u001b[38;5;241m.\u001b[39mabspath(\u001b[38;5;18m__file__\u001b[39m)))\n",
      "\u001b[1;31mNameError\u001b[0m: name '__file__' is not defined"
     ]
    }
   ],
   "source": [
    "# # GoogleDirve の指定したディレクトで作業する場合\n",
    "# %cd /content/drive/My Drive/project_directory"
   ]
  },
  {
   "cell_type": "markdown",
   "metadata": {
    "id": "ya93jv4Al1-K"
   },
   "source": [
    "# step1 : clone repositories"
   ]
  },
  {
   "cell_type": "code",
   "execution_count": null,
   "metadata": {
    "colab": {
     "base_uri": "https://localhost:8080/"
    },
    "executionInfo": {
     "elapsed": 1166,
     "status": "ok",
     "timestamp": 1661330046249,
     "user": {
      "displayName": "1220 hmkc",
      "userId": "14727686216303891825"
     },
     "user_tz": -540
    },
    "id": "qFgISuH0lyfG",
    "outputId": "5c9ee991-f06b-42d0-971f-3c8fcaa77331"
   },
   "outputs": [
    {
     "name": "stdout",
     "output_type": "stream",
     "text": [
      "Cloning into 'bgst'...\n",
      "remote: Enumerating objects: 53, done.\u001b[K\n",
      "remote: Counting objects: 100% (53/53), done.\u001b[K\n",
      "remote: Compressing objects: 100% (29/29), done.\u001b[K\n",
      "remote: Total 53 (delta 22), reused 52 (delta 21), pack-reused 0\u001b[K\n",
      "Unpacking objects: 100% (53/53), done.\n"
     ]
    }
   ],
   "source": [
    "!git clone \"https://github.com/TakanariShimbo/bgst.git\""
   ]
  },
  {
   "cell_type": "code",
   "execution_count": null,
   "metadata": {
    "colab": {
     "base_uri": "https://localhost:8080/"
    },
    "executionInfo": {
     "elapsed": 6291,
     "status": "ok",
     "timestamp": 1661330052536,
     "user": {
      "displayName": "1220 hmkc",
      "userId": "14727686216303891825"
     },
     "user_tz": -540
    },
    "id": "E1gJy6zDl06k",
    "outputId": "77ca5de5-4a74-4062-f5ad-d44cf4803ad4"
   },
   "outputs": [
    {
     "name": "stdout",
     "output_type": "stream",
     "text": [
      "Cloning into 'yolov7'...\n",
      "remote: Enumerating objects: 557, done.\u001b[K\n",
      "remote: Counting objects: 100% (34/34), done.\u001b[K\n",
      "remote: Compressing objects: 100% (20/20), done.\u001b[K\n",
      "remote: Total 557 (delta 17), reused 28 (delta 13), pack-reused 523\u001b[K\n",
      "Receiving objects: 100% (557/557), 103.35 MiB | 22.16 MiB/s, done.\n",
      "Resolving deltas: 100% (295/295), done.\n"
     ]
    }
   ],
   "source": [
    "!git clone \"https://github.com/TakanariShimbo/yolov7.git\""
   ]
  },
  {
   "cell_type": "code",
   "execution_count": null,
   "metadata": {
    "colab": {
     "base_uri": "https://localhost:8080/"
    },
    "executionInfo": {
     "elapsed": 539,
     "status": "ok",
     "timestamp": 1661330053073,
     "user": {
      "displayName": "1220 hmkc",
      "userId": "14727686216303891825"
     },
     "user_tz": -540
    },
    "id": "sgspdnTTl1Jb",
    "outputId": "c360340a-a846-45ec-a126-b162442887c0"
   },
   "outputs": [
    {
     "name": "stdout",
     "output_type": "stream",
     "text": [
      "Cloning into 'balldet'...\n",
      "remote: Enumerating objects: 30, done.\u001b[K\n",
      "remote: Counting objects: 100% (30/30), done.\u001b[K\n",
      "remote: Compressing objects: 100% (20/20), done.\u001b[K\n",
      "remote: Total 30 (delta 14), reused 26 (delta 10), pack-reused 0\u001b[K\n",
      "Unpacking objects: 100% (30/30), done.\n"
     ]
    }
   ],
   "source": [
    "!git clone \"https://github.com/TakanariShimbo/balldet.git\""
   ]
  }
 ],
 "metadata": {
  "accelerator": "GPU",
  "colab": {
   "authorship_tag": "ABX9TyMjKaqGVtPyGpfAwOZ4U0nb",
   "collapsed_sections": [],
   "name": "main.ipynb",
   "provenance": []
  },
  "gpuClass": "standard",
  "kernelspec": {
   "display_name": "Python 3 (ipykernel)",
   "language": "python",
   "name": "python3"
  },
  "language_info": {
   "codemirror_mode": {
    "name": "ipython",
    "version": 3
   },
   "file_extension": ".py",
   "mimetype": "text/x-python",
   "name": "python",
   "nbconvert_exporter": "python",
   "pygments_lexer": "ipython3",
   "version": "3.9.12"
  }
 },
 "nbformat": 4,
 "nbformat_minor": 1
}
